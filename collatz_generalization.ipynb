{
  "nbformat": 4,
  "nbformat_minor": 0,
  "metadata": {
    "colab": {
      "name": "collatz_generalization.ipynb",
      "version": "0.3.2",
      "provenance": [],
      "collapsed_sections": [],
      "include_colab_link": true
    },
    "kernelspec": {
      "name": "python3",
      "display_name": "Python 3"
    },
    "accelerator": "GPU"
  },
  "cells": [
    {
      "cell_type": "markdown",
      "metadata": {
        "id": "view-in-github",
        "colab_type": "text"
      },
      "source": [
        "[View in Colaboratory](https://colab.research.google.com/github/weedjy/gnrlCollatzConjecture/blob/master/collatz_generalization.ipynb)"
      ]
    },
    {
      "metadata": {
        "id": "q3cJW0JfbwID",
        "colab_type": "code",
        "colab": {}
      },
      "cell_type": "code",
      "source": [
        "from math import sqrt\n",
        "\n",
        "primes = [2]\n",
        "\n",
        "count = 1\n",
        "i = 1\n",
        "while count < 1000:\n",
        "    i += 2\n",
        "    for k in range(2, 1+int(sqrt(i+1))):\n",
        "        if i%k == 0:       \n",
        "            break\n",
        "    else:\n",
        "        primes.append(i)\n",
        "        count += 1\n",
        "print(primes)\n"
      ],
      "execution_count": 0,
      "outputs": []
    },
    {
      "metadata": {
        "id": "M3_Us4NWx2yt",
        "colab_type": "code",
        "colab": {}
      },
      "cell_type": "code",
      "source": [
        "def next_step(ntt, ps):\n",
        "    for q in primes:\n",
        "        if q < ps:\n",
        "            if (ntt // q) * q == ntt:\n",
        "                return ntt // q\n",
        "        else:\n",
        "            break\n",
        "    return ntt * ps + 1\n",
        "\n",
        "def check_p(pp):\n",
        "    print(\"exploring \", pp)\n",
        "    for n in range(23500001, 24000000, 2):\n",
        "        n_started = n\n",
        "        nt = n\n",
        "        n_set = set()\n",
        "        n_set.add(nt)\n",
        "        sl = len(n_set)\n",
        "        # print(\"checking \", pp, nt, '\\t\\t', end='')\n",
        "        # print(\"checking \", pp, nt)\n",
        "        while True:\n",
        "            nt = next_step(nt, pp)\n",
        "            n_set.add(nt)\n",
        "            # print(nt, \"->\", end='')\n",
        "            if nt == 1:\n",
        "                break\n",
        "            elif nt == n_started:\n",
        "                print(\"=n with \", pp, n)\n",
        "                break\n",
        "            elif nt < n_started:\n",
        "                break\n",
        "            elif len(n_set) == sl and n_started not in n_set:\n",
        "                print(\">n with \", pp, n)\n",
        "                # print(n_set)\n",
        "                break\n",
        "            elif len(n_set) == sl and n_started in n_set:\n",
        "                print(\"=n with \", pp, n)\n",
        "                # print(n_set)\n",
        "                break\n",
        "            else:\n",
        "                sl = len(n_set)\n",
        "                if sl > 20000:\n",
        "                  print(\"warn: sl={} for n_started={}\".format(sl, n_started))\n",
        "\n",
        "for p in primes[2:]:\n",
        "    check_p(p)"
      ],
      "execution_count": 0,
      "outputs": []
    }
  ]
}