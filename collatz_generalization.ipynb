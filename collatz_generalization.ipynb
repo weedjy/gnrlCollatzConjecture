{
  "nbformat": 4,
  "nbformat_minor": 0,
  "metadata": {
    "colab": {
      "name": "Untitled0.ipynb",
      "version": "0.3.2",
      "provenance": [],
      "collapsed_sections": [],
      "include_colab_link": true
    },
    "kernelspec": {
      "name": "python3",
      "display_name": "Python 3"
    }
  },
  "cells": [
    {
      "cell_type": "markdown",
      "metadata": {
        "id": "view-in-github",
        "colab_type": "text"
      },
      "source": [
        "<a href=\"https://colab.research.google.com/github/weedjy/gnrlCollatzConjecture/blob/indChecks/collatz_generalization.ipynb\" target=\"_parent\"><img src=\"https://colab.research.google.com/assets/colab-badge.svg\" alt=\"Open In Colab\"/></a>"
      ]
    },
    {
      "metadata": {
        "id": "RGU4KmcYBhbb",
        "colab_type": "code",
        "outputId": "1083d006-b0b2-42f0-b806-d629bdb1f981",
        "colab": {
          "base_uri": "https://localhost:8080/",
          "height": 531
        }
      },
      "cell_type": "code",
      "source": [
        "from math import sqrt\n",
        "\n",
        "primes = [2]\n",
        "\n",
        "count = 1\n",
        "i = 1\n",
        "while count < 1000:\n",
        "    i += 2\n",
        "    for k in range(2, 1+int(sqrt(i+1))):\n",
        "        if i%k == 0:       \n",
        "            break\n",
        "    else:\n",
        "        primes.append(i)\n",
        "        count += 1\n",
        "# print(primes)\n",
        "\n",
        "primes_to_check = [5, 7, 29, 41, 79, 107, 109, 127, 149, 157, 179, 191, 199, 211, 307, 311, 337, 359, 397, 419, 433, 439, 443, 463, 479, 487, 521, 557, 569, 631, 643, 653, 733, 773, 811, 823, 827, 853, 887, 929, 941, 977, 997, 1009, 1019, 1021, 1033, 1061, 1093, 1123, 1181, 1187, 1217, 1223, 1249, 1279, 1283, 1289, 1291, 1301, 1327, 1367, 1373, 1433, 1471, 1483, 1489, 1499, 1523, 1531, 1549, 1559, 1567, 1601, 1607, 1609, 1613, 1619, 1627, 1657, 1667, 1669, 1699, 1733, 1747, 1753, 1787, 1811, 1831, 1861, 1867, 1933, 1949, 1987, 1993, 2003, 2029, 2039, 2081, 2087, 2089, 2113, 2141, 2143, 2161, 2207, 2237, 2239, 2243, 2251, 2267, 2269, 2273, 2281, 2351, 2357, 2389, 2399, 2411, 2423, 2441, 2503, 2539, 2633, 2657, 2753, 2777, 2819, 2837, 2851, 2857, 2861, 2887, 2917, 2927, 2953, 2969, 2971, 3011, 3023, 3037, 3041, 3049, 3079, 3083, 3109, 3209, 3251, 3257, 3259, 3271, 3313, 3323, 3359, 3371, 3373, 3389, 3413, 3433, 3449, 3467, 3469, 3491, 3547, 3557, 3571, 3581, 3583, 3607, 3613, 3617, 3659, 3677, 3701, 3709, 3719, 3733, 3761, 3793, 3821, 3823, 3833, 3847, 3863, 3877, 3881, 3889, 4021, 4057, 4079, 4091, 4093, 4153, 4201, 4211, 4217, 4219, 4271, 4283, 4327, 4349, 4357, 4421, 4441, 4451, 4483, 4493, 4513, 4523, 4567, 4603, 4651, 4657, 4663, 4673, 4729, 4733, 4783, 4787, 4799, 4813, 4817, 4877, 4889, 4903, 4919, 4937, 4969, 4993, 5039, 5087, 5101, 5107, 5113, 5227, 5231, 5237, 5279, 5303, 5309, 5323, 5381, 5419, 5477, 5519, 5557, 5563, 5569, 5581, 5623, 5647, 5653, 5659, 5689, 5693, 5711, 5717, 5737, 5743, 5783, 5807, 5813, 5857, 5881, 5897, 5923, 5939, 5987, 6007, 6011, 6037, 6047, 6067, 6073, 6113, 6121, 6143, 6151, 6173, 6199, 6217, 6221, 6229, 6263, 6311, 6353, 6367, 6373, 6397, 6521, 6529, 6599, 6607, 6653, 6659, 6661, 6673, 6679, 6701, 6719, 6737, 6763, 6781, 6793, 6803, 6823, 6827, 6829, 6857, 6871, 6883, 6899, 6959, 6967, 6977, 6991, 7027, 7043, 7057, 7079, 7127, 7129, 7151, 7193, 7253, 7297, 7309, 7333, 7351, 7393, 7417, 7481, 7489, 7517, 7523, 7541, 7549, 7559, 7561, 7573, 7589, 7603, 7639, 7643, 7669, 7673, 7687, 7703, 7741, 7753, 7789, 7793, 7817, 7829, 7853, 7873, 7879]\n",
        "print('prime_to_check size =', len(primes_to_check))\n",
        "\n",
        "def next_step(ntt, ps):\n",
        "    for q in primes:\n",
        "        if q < ps:\n",
        "            if (ntt // q) * q == ntt:\n",
        "                return ntt // q\n",
        "        else:\n",
        "            break\n",
        "    return ntt * ps + 1\n",
        "\n",
        "def check_p(pp):\n",
        "    print(\"exploring \", pp)\n",
        "    for n in range(438000001, 439000000, 2):\n",
        "        n_started = n\n",
        "        nt = n\n",
        "        n_set = set()\n",
        "        n_set.add(nt)\n",
        "        sl = len(n_set)\n",
        "        # print(\"checking \", pp, nt, '\\t\\t', end='')\n",
        "        # print(\"checking \", pp, nt)\n",
        "        while True:\n",
        "            nt = next_step(nt, pp)\n",
        "            n_set.add(nt)\n",
        "            # print(nt, \"->\", end='')\n",
        "            if nt == 1:\n",
        "                break\n",
        "            elif nt == n_started:\n",
        "                print(\"=n with \", pp, n)\n",
        "                break\n",
        "            elif nt < n_started:\n",
        "                break\n",
        "            elif len(n_set) == sl and n_started not in n_set:\n",
        "                print(\">n with \", pp, n)\n",
        "                # print(n_set)\n",
        "                break\n",
        "            elif len(n_set) == sl and n_started in n_set:\n",
        "                print(\"=n with \", pp, n)\n",
        "                # print(n_set)\n",
        "                break\n",
        "            else:\n",
        "                sl = len(n_set)\n",
        "                if sl > 100000 and sl%10000 == 0:\n",
        "                  print(\"warn: sl={} for n_started={}\".format(sl, n_started))\n",
        "\n",
        "for p in primes_to_check[:]:\n",
        "    check_p(p)"
      ],
      "execution_count": 0,
      "outputs": [
        {
          "output_type": "stream",
          "text": [
            "prime_to_check size = 357\n",
            "exploring  5\n",
            "exploring  7\n",
            "exploring  29\n",
            "exploring  41\n",
            "exploring  79\n",
            "exploring  107\n",
            "exploring  109\n",
            "exploring  127\n",
            "exploring  149\n",
            "exploring  157\n",
            "exploring  179\n",
            "exploring  191\n",
            "exploring  199\n",
            "exploring  211\n",
            "exploring  307\n",
            "exploring  311\n",
            "exploring  337\n",
            "exploring  359\n",
            "exploring  397\n",
            "exploring  419\n",
            "exploring  433\n",
            "exploring  439\n",
            "exploring  443\n",
            "exploring  463\n",
            "exploring  479\n",
            "exploring  487\n",
            "exploring  521\n"
          ],
          "name": "stdout"
        }
      ]
    }
  ]
}